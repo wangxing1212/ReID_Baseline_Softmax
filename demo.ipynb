{
 "cells": [
  {
   "cell_type": "code",
   "execution_count": 1,
   "metadata": {},
   "outputs": [
    {
     "data": {
      "text/html": [
       "<script>requirejs.config({paths: { 'plotly': ['https://cdn.plot.ly/plotly-latest.min']},});if(!window.Plotly) {{require(['plotly'],function(plotly) {window.Plotly=plotly;});}}</script>"
      ],
      "text/vnd.plotly.v1+html": [
       "<script>requirejs.config({paths: { 'plotly': ['https://cdn.plot.ly/plotly-latest.min']},});if(!window.Plotly) {{require(['plotly'],function(plotly) {window.Plotly=plotly;});}}</script>"
      ]
     },
     "metadata": {},
     "output_type": "display_data"
    },
    {
     "data": {
      "application/vnd.jupyter.widget-view+json": {
       "model_id": "74378a797fd746bba23b06d3df892111",
       "version_major": 2,
       "version_minor": 0
      },
      "text/html": [
       "<p>Failed to display Jupyter Widget of type <code>VBox</code>.</p>\n",
       "<p>\n",
       "  If you're reading this message in the Jupyter Notebook or JupyterLab Notebook, it may mean\n",
       "  that the widgets JavaScript is still loading. If this message persists, it\n",
       "  likely means that the widgets JavaScript library is either not installed or\n",
       "  not enabled. See the <a href=\"https://ipywidgets.readthedocs.io/en/stable/user_install.html\">Jupyter\n",
       "  Widgets Documentation</a> for setup instructions.\n",
       "</p>\n",
       "<p>\n",
       "  If you're reading this message in another frontend (for example, a static\n",
       "  rendering on GitHub or <a href=\"https://nbviewer.jupyter.org/\">NBViewer</a>),\n",
       "  it may mean that your frontend doesn't currently support widgets.\n",
       "</p>\n"
      ],
      "text/plain": [
       "VBox(children=(Dropdown(description='Dataset:', options=('Market1501', 'DukeMTMC'), value='Market1501'), Dropdown(description='Model:', options=('ResNet50', 'DenseNet121'), value='ResNet50'), Checkbox(value=True, description='Re_Ranking:'), Box(children=(Button(description='Train', style=ButtonStyle()), Button(description='Test', style=ButtonStyle()))), Output()))"
      ]
     },
     "metadata": {},
     "output_type": "display_data"
    }
   ],
   "source": [
    "import os\n",
    "from config import opt\n",
    "from main import train\n",
    "from main import test\n",
    "import ipywidgets as widgets\n",
    "from IPython.display import display\n",
    "from IPython.display import clear_output\n",
    "from ipywidgets import (interact, interactive, fixed)\n",
    "from utils import file_selector\n",
    "from evaluation import load_result\n",
    "import numpy as np\n",
    "import matplotlib.pyplot as plt\n",
    "import matplotlib.image as mpimg\n",
    "from pylab import *\n",
    "from datasets import Test_Dataset\n",
    "\n",
    "dataset_name = widgets.Dropdown(\n",
    "                        options=['Market1501', 'DukeMTMC'],\n",
    "                        value='Market1501',\n",
    "                        description='Dataset:',\n",
    "                        disabled=False,\n",
    "                    )\n",
    "model = widgets.Dropdown(\n",
    "                    options=['ResNet50', 'DenseNet121'],\n",
    "                    value='ResNet50',\n",
    "                    description='Model:',\n",
    "                    disabled=False,\n",
    "                )\n",
    "\n",
    "re_ranking = widgets.Checkbox(\n",
    "                value=True,\n",
    "                description='Re_Ranking:',\n",
    "                disabled=False\n",
    "            )\n",
    "\n",
    "\n",
    "train_button = widgets.Button(description=\"Train\")\n",
    "test_button = widgets.Button(description='Test')\n",
    "items = [train_button,test_button]\n",
    "button = widgets.Box(items)\n",
    "\n",
    "opt.dataset_name = dataset_name.value\n",
    "opt.model = model.value\n",
    "opt.re_ranking = re_ranking.value\n",
    "#display(dataset_name,model,re_ranking,button)\n",
    "out = widgets.Output()\n",
    "def click_train(b):\n",
    "    with out:\n",
    "        clear_output()\n",
    "        train()\n",
    "def click_test(b):\n",
    "    with out:\n",
    "        clear_output()\n",
    "        test()\n",
    "train_button.on_click(click_train)\n",
    "test_button.on_click(click_test)\n",
    "widgets.VBox([dataset_name,model,re_ranking,button, out])"
   ]
  },
  {
   "cell_type": "code",
   "execution_count": 2,
   "metadata": {},
   "outputs": [
    {
     "data": {
      "application/vnd.jupyter.widget-view+json": {
       "model_id": "7a33bb905bcb4ba09a92bf0f61ff3d13",
       "version_major": 2,
       "version_minor": 0
      },
      "text/html": [
       "<p>Failed to display Jupyter Widget of type <code>VBox</code>.</p>\n",
       "<p>\n",
       "  If you're reading this message in the Jupyter Notebook or JupyterLab Notebook, it may mean\n",
       "  that the widgets JavaScript is still loading. If this message persists, it\n",
       "  likely means that the widgets JavaScript library is either not installed or\n",
       "  not enabled. See the <a href=\"https://ipywidgets.readthedocs.io/en/stable/user_install.html\">Jupyter\n",
       "  Widgets Documentation</a> for setup instructions.\n",
       "</p>\n",
       "<p>\n",
       "  If you're reading this message in another frontend (for example, a static\n",
       "  rendering on GitHub or <a href=\"https://nbviewer.jupyter.org/\">NBViewer</a>),\n",
       "  it may mean that your frontend doesn't currently support widgets.\n",
       "</p>\n"
      ],
      "text/plain": [
       "VBox(children=(Button(description='Open Query Image', style=ButtonStyle()), Output()))"
      ]
     },
     "metadata": {},
     "output_type": "display_data"
    }
   ],
   "source": [
    "def input_result_demo(fname,R,size):\n",
    "    result,CMC,mAP = load_result()\n",
    "    ranking = result['ranking']\n",
    "    query_imgs_path = result['query_imgs_path']\n",
    "    gallery_imgs_path = result['gallery_imgs_path']\n",
    "\n",
    "    img_path = os.path.join(opt.data_dir,opt.dataset_name,'query',fname)\n",
    "    \n",
    "    query_index = np.where(query_imgs_path==img_path)\n",
    "\n",
    "    index = query_index[0][0]\n",
    "\n",
    "    query_label = query_imgs_path[index].split('/')[-1].split('_')[0]\n",
    "\n",
    "    fig, img = plt.subplots(1,R+1,figsize=(size,size))\n",
    "    for i in range(0,R+1):\n",
    "        if i == 0:\n",
    "            img[i].imshow(mpimg.imread(query_imgs_path[index]))\n",
    "            img[i].set_title('Query Image \\n ID:'+str(int(query_label)))\n",
    "        else:    \n",
    "            img[i].imshow(mpimg.imread(gallery_imgs_path[int(ranking[index][i-1])]))\n",
    "            gallery_label = gallery_imgs_path[int(ranking[index][i-1])].split('/')[-1].split('_')[0]\n",
    "            if i == 1:\n",
    "                img[i].set_title('Gallery Images \\n ID:'+str(int(gallery_label)))\n",
    "            else:\n",
    "                img[i].set_title('ID:'+str(int(gallery_label)))\n",
    "\n",
    "            if(gallery_label== query_label):\n",
    "                autoAxis = img[i].axis()\n",
    "                rec = Rectangle((autoAxis[0]-0.7,autoAxis[2]-0.2),(autoAxis[1]-autoAxis[0])+1,(autoAxis[3]-autoAxis[2])+0.4,fill=False,lw=2,color='red')\n",
    "                rec = img[i].add_patch(rec)\n",
    "                rec.set_clip_on(False)\n",
    "        img[i].axis('off')\n",
    "\n",
    "    plt.show()\n",
    "    \n",
    "file = widgets.Button(description='Open Query Image')\n",
    "out = widgets.Output()\n",
    "\n",
    "def click(b): \n",
    "    file_path = file_selector(opt.data_dir).decode(\"utf-8\")\n",
    "    fname = str(file_path).split('/')[-1]\n",
    "    file.description = fname\n",
    "    with out:\n",
    "        #clear_output()\n",
    "        interact(input_result_demo, \n",
    "         fname = fname,\n",
    "         R=widgets.IntSlider(value=5,min=0,max=20), \n",
    "         size = widgets.IntSlider(value=20,min=0,max=40)\n",
    "        )\n",
    "\n",
    "file.on_click(click)\n",
    "widgets.VBox([file, out])"
   ]
  },
  {
   "cell_type": "code",
   "execution_count": 3,
   "metadata": {},
   "outputs": [
    {
     "data": {
      "application/vnd.jupyter.widget-view+json": {
       "model_id": "3718c9277bb6402992210db176df2ff9",
       "version_major": 2,
       "version_minor": 0
      },
      "text/html": [
       "<p>Failed to display Jupyter Widget of type <code>interactive</code>.</p>\n",
       "<p>\n",
       "  If you're reading this message in the Jupyter Notebook or JupyterLab Notebook, it may mean\n",
       "  that the widgets JavaScript is still loading. If this message persists, it\n",
       "  likely means that the widgets JavaScript library is either not installed or\n",
       "  not enabled. See the <a href=\"https://ipywidgets.readthedocs.io/en/stable/user_install.html\">Jupyter\n",
       "  Widgets Documentation</a> for setup instructions.\n",
       "</p>\n",
       "<p>\n",
       "  If you're reading this message in another frontend (for example, a static\n",
       "  rendering on GitHub or <a href=\"https://nbviewer.jupyter.org/\">NBViewer</a>),\n",
       "  it may mean that your frontend doesn't currently support widgets.\n",
       "</p>\n"
      ],
      "text/plain": [
       "interactive(children=(IntSlider(value=5, description='R', max=20), IntSlider(value=0, description='index', max=3367), IntSlider(value=20, description='size', max=40), Output()), _dom_classes=('widget-interact',))"
      ]
     },
     "metadata": {},
     "output_type": "display_data"
    },
    {
     "data": {
      "text/plain": [
       "<function __main__.select_result_demo>"
      ]
     },
     "execution_count": 3,
     "metadata": {},
     "output_type": "execute_result"
    }
   ],
   "source": [
    "def select_result_demo(R,index,size):\n",
    "    result,CMC,mAP = load_result()\n",
    "    ranking = result['ranking']\n",
    "    query_imgs_path = result['query_imgs_path']\n",
    "    gallery_imgs_path = result['gallery_imgs_path']\n",
    "\n",
    "\n",
    "    query_label = query_imgs_path[index].split('/')[-1].split('_')[0]\n",
    "\n",
    "    fig, img = plt.subplots(1,R+1,figsize=(size,size))\n",
    "    for i in range(0,R+1):\n",
    "        if i == 0:\n",
    "            img[i].imshow(mpimg.imread(query_imgs_path[index]))\n",
    "            img[i].set_title('Query Image \\n ID:'+str(int(query_label)))\n",
    "        else:    \n",
    "            img[i].imshow(mpimg.imread(gallery_imgs_path[int(ranking[index][i-1])]))\n",
    "            gallery_label = gallery_imgs_path[int(ranking[index][i-1])].split('/')[-1].split('_')[0]\n",
    "            if i == 1:\n",
    "                img[i].set_title('Gallery Images \\n ID:'+str(int(gallery_label)))\n",
    "            else:\n",
    "                img[i].set_title('ID:'+str(int(gallery_label)))\n",
    "\n",
    "            if(gallery_label== query_label):\n",
    "                autoAxis = img[i].axis()\n",
    "                rec = Rectangle((autoAxis[0]-0.7,autoAxis[2]-0.2),(autoAxis[1]-autoAxis[0])+1,(autoAxis[3]-autoAxis[2])+0.4,fill=False,lw=2,color='red')\n",
    "                rec = img[i].add_patch(rec)\n",
    "                rec.set_clip_on(False)\n",
    "        img[i].axis('off')\n",
    "\n",
    "    plt.show()\n",
    "    \n",
    "interact(select_result_demo, \n",
    "         R=widgets.IntSlider(value=5,min=0,max=20), \n",
    "         index = widgets.IntSlider(value=0,min=0,max=len(Test_Dataset('query'))-1) ,\n",
    "         size = widgets.IntSlider(value=20,min=0,max=40)\n",
    "        )"
   ]
  }
 ],
 "metadata": {
  "kernelspec": {
   "display_name": "Python 3",
   "language": "python",
   "name": "python3"
  },
  "language_info": {
   "codemirror_mode": {
    "name": "ipython",
    "version": 3
   },
   "file_extension": ".py",
   "mimetype": "text/x-python",
   "name": "python",
   "nbconvert_exporter": "python",
   "pygments_lexer": "ipython3",
   "version": "3.6.4"
  }
 },
 "nbformat": 4,
 "nbformat_minor": 2
}
