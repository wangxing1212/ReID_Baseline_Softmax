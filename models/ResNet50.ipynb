{
 "cells": [
  {
   "cell_type": "code",
   "execution_count": 6,
   "metadata": {},
   "outputs": [
    {
     "name": "stdout",
     "output_type": "stream",
     "text": [
      "Overwriting ResNet50.py\n"
     ]
    }
   ],
   "source": [
    "%%writefile ResNet50.py\n",
    "import torch\n",
    "from torch import nn\n",
    "from torch.nn import functional as F\n",
    "from torch.nn import init\n",
    "from torchvision import models\n",
    "from .BasicModule import BasicModule\n",
    "\n",
    "def weights_init_kaiming(m):\n",
    "    classname = m.__class__.__name__\n",
    "    # print(classname)\n",
    "    if classname.find('Conv') != -1:\n",
    "        init.kaiming_normal(m.weight.data, a=0, mode='fan_in')\n",
    "    elif classname.find('Linear') != -1:\n",
    "        init.kaiming_normal(m.weight.data, a=0, mode='fan_out')\n",
    "        init.constant(m.bias.data, 0.0)\n",
    "    elif classname.find('BatchNorm1d') != -1:\n",
    "        init.normal(m.weight.data, 1.0, 0.02)\n",
    "        init.constant(m.bias.data, 0.0)\n",
    "\n",
    "def weights_init_classifier(m):\n",
    "    classname = m.__class__.__name__\n",
    "    if classname.find('Linear') != -1:\n",
    "        init.normal(m.weight.data, std=0.001)\n",
    "        init.constant(m.bias.data, 0.0)\n",
    "        \n",
    "class ResNet50(BasicModule):\n",
    "    '''\n",
    "    实现主module：ResNet34\n",
    "    ResNet34包含多个layer，每个layer又包含多个Residual block\n",
    "    用子module来实现Residual block，用_make_layer函数来实现layer\n",
    "    '''\n",
    "    def __init__(self, class_num):\n",
    "        super(ResNet50, self).__init__()\n",
    "        self.model_name = 'resnet50'\n",
    "        model_ft = models.resnet50(pretrained=True)\n",
    "\n",
    "        # avg pooling to global pooling\n",
    "        model_ft.avgpool = nn.AdaptiveAvgPool2d((1,1))\n",
    "\n",
    "        num_ftrs = model_ft.fc.in_features\n",
    "        add_block = []\n",
    "        num_bottleneck = 512\n",
    "        add_block += [nn.Linear(num_ftrs, num_bottleneck)]\n",
    "        add_block += [nn.BatchNorm1d(num_bottleneck)]\n",
    "        add_block += [nn.LeakyReLU(0.1)]\n",
    "        add_block += [nn.Dropout(p=0.5)]  #default dropout rate 0.5\n",
    "        #transforms.CenterCrop(224),\n",
    "        add_block = nn.Sequential(*add_block)\n",
    "        add_block.apply(weights_init_kaiming)\n",
    "        model_ft.fc = add_block\n",
    "        self.model = model_ft\n",
    "\n",
    "        classifier = []\n",
    "        classifier += [nn.Linear(num_bottleneck, class_num)]\n",
    "        classifier = nn.Sequential(*classifier)\n",
    "        classifier.apply(weights_init_classifier)\n",
    "        self.classifier = classifier\n",
    "        \n",
    "    def forward(self, x):\n",
    "        x = self.model(x)\n",
    "        x = self.classifier(x)\n",
    "        return x"
   ]
  },
  {
   "cell_type": "code",
   "execution_count": null,
   "metadata": {},
   "outputs": [],
   "source": []
  }
 ],
 "metadata": {
  "kernelspec": {
   "display_name": "Python 3",
   "language": "python",
   "name": "python3"
  },
  "language_info": {
   "codemirror_mode": {
    "name": "ipython",
    "version": 3
   },
   "file_extension": ".py",
   "mimetype": "text/x-python",
   "name": "python",
   "nbconvert_exporter": "python",
   "pygments_lexer": "ipython3",
   "version": "3.5.2"
  }
 },
 "nbformat": 4,
 "nbformat_minor": 2
}
