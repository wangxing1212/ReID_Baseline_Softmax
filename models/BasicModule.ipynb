{
 "cells": [
  {
   "cell_type": "code",
   "execution_count": 12,
   "metadata": {},
   "outputs": [
    {
     "name": "stdout",
     "output_type": "stream",
     "text": [
      "Overwriting BasicModule.py\n"
     ]
    }
   ],
   "source": [
    "%%writefile BasicModule.py\n",
    "import os\n",
    "import torch as t\n",
    "\n",
    "class BasicModule(t.nn.Module):\n",
    "    '''\n",
    "    封装了nn.Module,主要是提供了save和load两个方法\n",
    "    '''\n",
    "\n",
    "    def __init__(self):\n",
    "        super(BasicModule,self).__init__()\n",
    "        self.model_name=str(type(self))# 默认名字\n",
    "\n",
    "    def load(self, dataset_name, epoch_label):\n",
    "        '''\n",
    "        可加载指定路径的模型\n",
    "        '''\n",
    "        save_filename = self.model_name + '_%s.pth' % epoch_label\n",
    "        save_path = os.path.join('./checkpoints/'\n",
    "                                 +dataset_name+'/'\n",
    "                                 +self.model_name+'/'\n",
    "                                 +save_filename)\n",
    "        self.load_state_dict(t.load(save_path))\n",
    "\n",
    "    def save(self, dataset_name, epoch_label):\n",
    "        '''\n",
    "        保存模型，默认使用“模型名字+时间”作为文件名\n",
    "        '''\n",
    "        save_filename = self.model_name + '_%s.pth' % epoch_label\n",
    "        save_dir = 'checkpoints/'+dataset_name+'/'+self.model_name\n",
    "        if not os.path.exists(save_dir):\n",
    "            os.makedirs(save_dir)\n",
    "        save_path = os.path.join(save_dir+'/'+save_filename )\n",
    "        t.save(self.cuda().state_dict(),save_path)"
   ]
  },
  {
   "cell_type": "code",
   "execution_count": null,
   "metadata": {},
   "outputs": [],
   "source": []
  }
 ],
 "metadata": {
  "kernelspec": {
   "display_name": "Python 3",
   "language": "python",
   "name": "python3"
  },
  "language_info": {
   "codemirror_mode": {
    "name": "ipython",
    "version": 3
   },
   "file_extension": ".py",
   "mimetype": "text/x-python",
   "name": "python",
   "nbconvert_exporter": "python",
   "pygments_lexer": "ipython3",
   "version": "3.5.2"
  }
 },
 "nbformat": 4,
 "nbformat_minor": 2
}
