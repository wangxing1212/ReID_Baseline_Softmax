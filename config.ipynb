{
 "cells": [
  {
   "cell_type": "code",
   "execution_count": 4,
   "metadata": {},
   "outputs": [
    {
     "name": "stdout",
     "output_type": "stream",
     "text": [
      "Overwriting config.py\n"
     ]
    }
   ],
   "source": [
    "%%writefile config.py\n",
    "import warnings\n",
    "class DefaultConfig(object):\n",
    "    data_dir = '/home/linshan/Dataset/'\n",
    "    batch_size = 32\n",
    "    num_epochs = 50\n",
    "    save_dir = '/home/linshan/ResearchProjects/reid_baseline/checkpoints/'\n",
    "    save_rate = 1\n",
    "    model = 'ResNet50'\n",
    "\n",
    "def parse(self,kwargs):\n",
    "        '''\n",
    "        根据字典kwargs 更新 config参数\n",
    "        '''\n",
    "        for k,v in kwargs.items():\n",
    "            if not hasattr(self,k):\n",
    "                warnings.warn(\"Warning: opt has not attribut %s\" %k)\n",
    "            setattr(self,k,v)\n",
    "\n",
    "        print('user config:')\n",
    "        for k,v in self.__class__.__dict__.items():\n",
    "            if not k.startswith('__'):\n",
    "                print(k,getattr(self,k))\n",
    "\n",
    "\n",
    "DefaultConfig.parse = parse\n",
    "opt =DefaultConfig()\n",
    "default = DefaultConfig()"
   ]
  },
  {
   "cell_type": "code",
   "execution_count": null,
   "metadata": {},
   "outputs": [],
   "source": []
  }
 ],
 "metadata": {
  "kernelspec": {
   "display_name": "Python 3",
   "language": "python",
   "name": "python3"
  },
  "language_info": {
   "codemirror_mode": {
    "name": "ipython",
    "version": 3
   },
   "file_extension": ".py",
   "mimetype": "text/x-python",
   "name": "python",
   "nbconvert_exporter": "python",
   "pygments_lexer": "ipython3",
   "version": "3.5.2"
  }
 },
 "nbformat": 4,
 "nbformat_minor": 2
}
